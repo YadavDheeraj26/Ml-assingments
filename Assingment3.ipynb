{
 "cells": [
  {
   "cell_type": "markdown",
   "id": "bb72fe69",
   "metadata": {},
   "source": [
    "# 1.Explain the term machine learning, and how does it work? Explain two machine learning applications in the business world. What are some of the ethical concerns that machine learning applications could raise?\n",
    "\n",
    "machine learning is the branch of ai which focus on the data and algorithms to intimate the way humans thinks,\n",
    "gradually imporoving its accuracy.\n",
    "\n",
    "- It explore data and identify pattern like human\n",
    "- Responsiblity:- desing Ml model and system with algorithm, tools, etc\n",
    "- Real-time chatbot agents.\n",
    "\n",
    "- Decision support.\n",
    "\n",
    "- Customer recommendation engines.\n",
    "\n",
    "- Customer churn modeling.\n",
    "\n",
    "- Dynamic pricing tactics.\n",
    "\n",
    "- Market research and customer segmentation.\n",
    "\n",
    "- Fraud detection\n",
    "\n",
    "Also there are some of the ethical concerns that ML applications could raise : AI presents three major areas of ethical concern for society: Privacy and surveillance, bias and discrimination, and perhaps the deepest, most difficult philosophical question of the era, the role of human judgment."
   ]
  },
  {
   "cell_type": "markdown",
   "id": "97c26d3b",
   "metadata": {},
   "source": [
    "# 2. Describe the process of human learning:\n",
    "\n",
    "\n",
    "   - Under the supervision of experts:- Human-guided machine learning is a process whereby subject matter experts accelerate the learning process by teaching the technology in real-time. For example, if the machine learning model comes across a piece of data it is uncertain about, a human can be asked to weigh in and give feedback\n",
    "   - With the assistance of experts in an indirect manner:- Well The process of an algorithm learning from the training dataset can be thought of as a teacher supervising the learning process. We know the correct answers, the algorithm iteratively makes predictions on the training data and is corrected by the teacher.\n",
    "   - Self-education:-Ability to recognize patterns, learn from data, and become more intelligent over time (can be AI or programmatically based)\n"
   ]
  },
  {
   "cell_type": "markdown",
   "id": "6c428fe4",
   "metadata": {},
   "source": [
    "# 3. Provide a few examples of various types of machine learning.\n",
    "\n",
    "   - Supervised learning:- Prediction, segmentation, etc\n",
    "   - Unsupervised learning:- Market or basket analysis, cluster, assiciation\n",
    "   - Reinforcement learning:- Robot\n"
   ]
  },
  {
   "cell_type": "markdown",
   "id": "560bd76c",
   "metadata": {},
   "source": [
    "# 4. Examine the various forms of machine learning.\n",
    "\n",
    "   - Supervised Learning\n",
    "   - Unsupervised Learning\n",
    "   - Reinforcement Learning."
   ]
  },
  {
   "cell_type": "markdown",
   "id": "5ad23fe0",
   "metadata": {},
   "source": [
    "# 5. Can you explain what a well-posed learning problem is? Explain the main characteristics that must be present to identify a learning problem properly.\n",
    "\n",
    "   - Experience\n",
    "   - Task\n",
    "   - Performance measure\n"
   ]
  },
  {
   "cell_type": "markdown",
   "id": "d0793168",
   "metadata": {},
   "source": [
    "# 6. Is machine learning capable of solving all problems? Give a detailed explanation of your answer.\n",
    "\n",
    "   - Machine learning needs data and probably can run into all problems for solving but lays down with some concerns.\n",
    "  - Ethics:- The idea of trusting data and algorithms more than our own judgment has its pros and cons.\n",
    "  - Determinbistic problem:- Machine learning is stochastic, not deterministic\n",
    "    Lack of data"
   ]
  },
  {
   "cell_type": "markdown",
   "id": "3e3d5662",
   "metadata": {},
   "source": [
    "# 7. What are the various methods and technologies for solving machine learning problems? Any two of them should be defined in detail.\n",
    "\n",
    "  - The Various Technologies Used in Machine Learning Problems are: Scikit Learn, Pytorch, Tensorflow, Keras, Python.\n",
    "  - Scikit Learn:- Used for machine larning algorithm\n",
    "  - Tensorflow:- Used for deep learning algorihtm\n",
    "  - The Various Methods used in Machine Learning Problems are: Regression, Classification, Clustering, Dimensionality Reductio, Ensemble Methods, Neural Network, Deep Learning, Transfer Learning, Reinforcement Learning, Natural Language Processing, Word Embeddings.\n",
    "\n",
    "# 8. Can you explain the various forms of supervised learning? Explain each one with an example application.\n",
    "\n",
    "- There are lot's of algorithm are in the category of Supervised learning for example:-\n",
    "\n",
    "    Regression: In regression, a single output value is produced using training data.For example, regression can help predict the price of a house based on its locality, size, etc.\n",
    "    Classification: It involves grouping the data into classes.eg. If you are thinking of extending credit to a person, you can use classification to determine whether or not a person would be a loan defaulter.\n",
    "    Naive Bayesian Model: The Bayesian model of classification is used for large finite datasets. It is a method of assigning class labels using a direct acyclic graph.\n",
    "    Decision Trees: A decision tree is a flowchart-like model that contains conditional control statements, comprising decisions and their probable consequences. The output relates to the labelling of unforeseen data.\n",
    "\n",
    "# 9. What is the difference between supervised and unsupervised learning? With a sample application in each region, explain the differences.\n",
    "\n",
    "- Supervised earning algorithms are trained using labeled data. Unsupervised learning algorithms are trained using unlabeled data.In unsupervised learning, only input data is provided to the model. Examples:\n",
    "\n",
    "    Supervised Learning : Classification and Regression.\n",
    "    Unsuperised Learning : Clustering.\n",
    "\n",
    "# 10. Describe the machine learning process in depth ? Make brief notes on any two of the following:\n",
    "- \n",
    "    Step 1: Collect Data. ...\n",
    "\n",
    "    Step 2: Prepare the data. ...\n",
    "\n",
    "    Step 3: Choose the model. ...\n",
    "\n",
    "    Step 4 Train your machine model. ...\n",
    "\n",
    "    Step 5: Evaluation. ...\n",
    "\n",
    "    Step 6: Parameter Tuning. ...\n",
    "\n",
    "    Step 7: Prediction or Inference.\n",
    "\n",
    "    Deep learning applications in healthcare:- Deep learning models can interpret medical images like X-ray, MRI scan, CT scan, etc., to perform diagnosis. The algorithms can detect any risk and flag anomalies in the medical images. Deep learning is extensively used in detecting cancer.\n",
    "\n",
    "    Linear regression (simple): Linear Regression models describe the relationship between variables by fitting a line to the observed data. Linear regression models use a straight line, while logistic and nonlinear regression models use a curved line.\n",
    "\n",
    "# 11. Make a comparison between:-\n",
    "\n",
    "   - Generalization and abstraction: Abstraction is the process of removing details of objects. And Generalization, then, is the formulation of general concepts from specific instances by abstracting common properties. A concrete object can be looked at as a “subset” of a more generalized object.\n",
    "\n",
    "   - Learning that is guided and Unsupervised: Supervised learning is the method that trains machines to use data that is well classified and labeled. Whereas Unsupervised learning, on the other hand, is the method that trains machines to use data that is neither classified nor labeled.\n",
    "\n",
    "   - Regression and classification:\n",
    "\n",
    "   - Classification Models – Classification models are used for problems where the output variable can be categorized, such as Yes or No, or Pass or Fail. Classification Models are used to predict the category of the data. Real-life examples include spam detection, sentiment analysis, scorecard prediction of exams, etc.\n",
    "\n",
    "   - Regression Models – Regression models are used for problems where the output variable is a real value such as a unique number, dollars, salary, weight or pressure, for example. It is most often used to predict numerical values based on previous data observations. Some of the more familiar regression algorithms include linear regression, logistic regression, polynomial regression, and ridge regression.\n",
    "\n",
    " "
   ]
  }
 ],
 "metadata": {
  "kernelspec": {
   "display_name": "Python 3 (ipykernel)",
   "language": "python",
   "name": "python3"
  },
  "language_info": {
   "codemirror_mode": {
    "name": "ipython",
    "version": 3
   },
   "file_extension": ".py",
   "mimetype": "text/x-python",
   "name": "python",
   "nbconvert_exporter": "python",
   "pygments_lexer": "ipython3",
   "version": "3.9.16"
  }
 },
 "nbformat": 4,
 "nbformat_minor": 5
}
