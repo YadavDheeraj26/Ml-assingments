{
 "cells": [
  {
   "cell_type": "markdown",
   "metadata": {},
   "source": [
    "1. What does one mean by the term \"machine learning\"?\n",
    "\n",
    "Machine learning is a branch of artificial intelligence (AI) and computer science which focuses on the use of data and algorithms to imitate the way that humans learn, gradually improving its accuracy."
   ]
  },
  {
   "cell_type": "markdown",
   "metadata": {},
   "source": [
    "\n",
    "2. Can you think of 4 distinct types of issues where it shines?\n",
    "\n",
    "Clustering //\n",
    "Recognition//\n",
    "Recommentation//\n",
    "Prediction\n",
    "\n"
   ]
  },
  {
   "cell_type": "markdown",
   "metadata": {},
   "source": [
    "\n",
    "3. What is a labeled training set, and how does it work?\n",
    "\n",
    "=> labelled training set is a data set uesd to train the model & it has labeles on it."
   ]
  },
  {
   "cell_type": "markdown",
   "metadata": {},
   "source": [
    "4. What are the two most important tasks that are supervised?\n",
    "\n",
    "=> Regression  & Classification  \n",
    "\n",
    "5. Can you think of four examples of unsupervised tasks?\n",
    "\n",
    "=> clustering ||  visualization || assosiation || dimensionality reduction\n",
    "\n",
    "\n",
    "6. State the machine learning model that would be best to make a robot walk through various unfamiliar terrains?\n",
    "\n",
    "=> reinforcement learning \n",
    "\n",
    "\n",
    "7. Which algorithm will you use to divide your customers into different groups?\n",
    "\n",
    "=> classification algos in supervised learning\n",
    "   * Logistic regression \n",
    "   * decesion tree\n",
    "   * knn\n",
    "   * svm\n",
    "   * naive bayse\n",
    "\n",
    "   clustering in unsupervised learning \n",
    "   * k meanse clustering\n",
    "   * hierarchy & agglomeraive\n",
    "   * DBSCAN\n",
    "\n",
    "   ANN in Deep Learning"
   ]
  },
  {
   "cell_type": "markdown",
   "metadata": {},
   "source": [
    "8. Will you consider the problem of spam detection to be a supervised or unsupervised learning problem?\n",
    "\n",
    "=> it's supervised beacause it has two classes spam output\n",
    "\n",
    "\n",
    "9. What is the concept of an online learning system?\n",
    "\n",
    "=> the machine learn continiously on the server.\n",
    "\n",
    "\n",
    "10. What is out-of-core learning, and how does it differ from core learning?\n",
    "\n",
    "=> out-of-core in which, system read data cannt be fit into computer memory. it use online learning to read data into chunks.\n",
    "\n",
    "\n",
    "11. What kind of learning algorithm makes predictions using a similarity measure?\n",
    "\n",
    "=> instance based algo\n",
    "\n",
    "\n",
    "12. What is the difference between a model parameter and a hyperparameter in a learning algorithm?\n",
    "\n",
    "* model parameter is a upcoming(future) instance(point) that algorithm will dertermine.\n",
    "* Hyperparameter is in algorihtm to to effect the output of algorithm like slope, lamda, beta, etc.\n",
    "\n"
   ]
  },
  {
   "cell_type": "markdown",
   "metadata": {},
   "source": [
    "\n",
    "13. What are the criteria that model-based learning algorithms look for? What is the most popular method they use to achieve success? What method do they use to make predictions?\n",
    "\n",
    "Optimal value of parameter to loss cost for increase accuracy.\n"
   ]
  },
  {
   "cell_type": "markdown",
   "metadata": {},
   "source": [
    "\n",
    "14. Can you name four of the most important Machine Learning challenges?\n",
    "\n",
    "    * Lack of data\n",
    "    * Underfitting\n",
    "    * Overfitting\n",
    "    * Non representative data\n",
    "\n"
   ]
  },
  {
   "cell_type": "markdown",
   "metadata": {},
   "source": [
    "\n",
    "15. What happens if the model performs well on the training data but fails to generalize the results to new situations? Can you think of three different options?\n",
    "\n",
    "It's mean overfitting\n",
    "\n",
    "* Need more data\n",
    "* Need overfitting optimizers like regularization\n",
    "* Need to Remove outliers\n",
    "\n",
    "16. What exactly is a test set, and why would you need one?\n",
    "\n",
    "    * Test set is a set of data in which we see the performance of algorithm.\n",
    "    * Test set is necessary to determine how good (or bad) a model performs.\n",
    "\n",
    "17. What is a validation set's purpose?\n",
    "\n",
    "* Finding and optimizing the best model to solve a given problem.\n",
    "18. What precisely is the train-dev kit, when will you need it, how do you put it to use ?\n",
    "\n",
    "    * Cross validation\n",
    "    * Used to find the best algorihtm and its parameter withour validation data.\n",
    "    * Instead of breaking the data into validation we use cross validation.\n",
    "\n",
    "19. What could go wrong if you use the test set to tune hyperparameters ?\n",
    "\n",
    "If we tune hyperparameter in test set then it perform well but not on future set because the model is tuned just for specific test.\n"
   ]
  }
 ],
 "metadata": {
  "language_info": {
   "name": "python"
  },
  "orig_nbformat": 4
 },
 "nbformat": 4,
 "nbformat_minor": 2
}
