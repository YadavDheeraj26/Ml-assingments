{
 "cells": [
  {
   "cell_type": "markdown",
   "id": "d78434e8",
   "metadata": {},
   "source": [
    "# 1. In the sense of machine learning, what is a model? What is the best way to train a model?\n",
    " A Machine Learning Model is a file that has been trained to recognize certain types of patterns. You train a model over a set of data, providing it an algorithm that it can use to reason over and learn from those data."
   ]
  },
  {
   "cell_type": "markdown",
   "id": "b6d12be5",
   "metadata": {},
   "source": [
    "# 2. In the sense of machine learning, explain the &quot;No Free Lunch&quot; theorem.\n",
    "a theoretical finding that suggests all optimization algorithms perform equally well when their performance is averaged over all possible objective functions."
   ]
  },
  {
   "cell_type": "markdown",
   "id": "53aead8e",
   "metadata": {},
   "source": [
    "# 3. Describe the K-fold cross-validation mechanism in detail.\n",
    "K-fold Cross-Validation is when the dataset is split into a K number of folds and is used to evaluate the model's ability when given new data. K refers to the number of groups the data sample is split into. For example, if you see that the k-value is 5, we can call this a 5-fold cross-validation."
   ]
  },
  {
   "cell_type": "markdown",
   "id": "26ac00a0",
   "metadata": {},
   "source": [
    "# 4. Describe the bootstrap sampling method. What is the aim of it?\n",
    "The bootstrap method is a statistical technique for estimating quantities about a population by averaging estimates from multiple small data samples. "
   ]
  },
  {
   "cell_type": "markdown",
   "id": "5d7a61ae",
   "metadata": {},
   "source": [
    "# 5. What is the significance of calculating the Kappa value for a classification model? Demonstrate how to measure the Kappa value of a classification model using a sample collection of results.\n",
    "Kappa value or Cohen's Kappa coefficient is an evaluation metric for classification models. Its significance as an evaluation metric is that it can be used to evaluate multi class classification models and also works on models trained on imbalanced datasets(scores like accuracy scores fail for imbalanced datasets)."
   ]
  },
  {
   "cell_type": "markdown",
   "id": "9523fa1e",
   "metadata": {},
   "source": [
    "# 6. Describe the model ensemble method. In machine learning, what part does it play?\n",
    "Ensemble methods or ensemble machine learning models are models where more than one models are being used spontaneously to produce better results than individually trained models."
   ]
  },
  {
   "cell_type": "markdown",
   "id": "cb14e013",
   "metadata": {},
   "source": [
    "# 7. What is a descriptive model&#39;s main purpose? Give examples of real-world problems that descriptive models were used to solve.\n",
    " A descriptive model is used for tasks that would benefit from the insight gained from summarizing data in new and interesting ways like customer classification"
   ]
  },
  {
   "cell_type": "markdown",
   "id": "516cf1a6",
   "metadata": {},
   "source": [
    "# 8. Describe how to evaluate a linear regression model.\n",
    "rquare, mae, mse, rmse, etc"
   ]
  },
  {
   "cell_type": "markdown",
   "id": "faa70040",
   "metadata": {},
   "source": [
    "# 9. Distinguish :\n",
    "1. Descriptive vs. predictive models:- Descriptive models are built to identify trends and underlying patterns and Predictive models are built to predict a dependent variable value.\n",
    "2.Underfitting vs. overfitting the model:-Underfitting is a situation arising when the hypothesis is way too simple, or when the machine learning model is way too simple to produce good results and Overfitting is a situation arising when the hypothesis is way too complex, or when the machine learning model is way too complex to produce good results.\n",
    "3. Bootstrapping vs. cross-validation:-\n",
    "Boostrap sampling is a method of sampling in which the repeated sampling is done with replacement using a data D in random draws over which machine learning models are trained for better performance and\n",
    "Cross validation is a method used to check the efficacy of the machine learning model on test data."
   ]
  },
  {
   "cell_type": "markdown",
   "id": "3e895265",
   "metadata": {},
   "source": [
    "# 10. Make quick notes on:\n",
    "1. LOOCV:- LOOCV or Leave One Out Cross Validation is a form of K-fold cross validation where only one observation is left out for validation purpose while the rest of the data.\n",
    "2. F-measurement:- Harmonic mean of Precision score and recall score is called F-measurement or F-score.\n",
    "3. The width of the silhouette:- Estimate of average inter cluster distance to give efficacy/performance of cluster algorithms is called width of the silhouette.\n",
    "4. Receiver operating characteristic curve:- Curve plotted between True Positive Rate and False Positive Rate"
   ]
  },
  {
   "cell_type": "code",
   "execution_count": null,
   "id": "06f2782c",
   "metadata": {},
   "outputs": [],
   "source": []
  }
 ],
 "metadata": {
  "kernelspec": {
   "display_name": "Python 3 (ipykernel)",
   "language": "python",
   "name": "python3"
  },
  "language_info": {
   "codemirror_mode": {
    "name": "ipython",
    "version": 3
   },
   "file_extension": ".py",
   "mimetype": "text/x-python",
   "name": "python",
   "nbconvert_exporter": "python",
   "pygments_lexer": "ipython3",
   "version": "3.9.12"
  }
 },
 "nbformat": 4,
 "nbformat_minor": 5
}
