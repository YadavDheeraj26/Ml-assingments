{
 "cells": [
  {
   "cell_type": "markdown",
   "id": "3c1f77ee",
   "metadata": {},
   "source": [
    "# 1. What are the key tasks that machine learning entails? What does data pre-processing imply?\n",
    "\n",
    "- Get data\n",
    "- Cleaning, preparing and manipulation data\n",
    "- Train and testing model\n",
    "- Improve model\n",
    "- data preprocessing:- Data preprocessing involves transforming raw data to well-formed data sets so that data mining analytics can be applied."
   ]
  },
  {
   "cell_type": "markdown",
   "id": "8e4f4f06",
   "metadata": {},
   "source": [
    "# 2. Describe quantitative and qualitative data in depth. Make a distinction between the two.\n",
    "- quatitative data:-  This Type Of Data Type Consists Of Numerical Values.\n",
    "-- Discrete Data Type: – The Numeric Data Which Have Discrete Values Or Whole Numbers like no of cars, etc.\n",
    "-- Continuous Data Type: – The Numerical Measures Which Can Take The Value Within A Certain Range like hieght, weight, etc.\n",
    "- Qualitative Data Type: These Are The Data Types That Cannot Be Expressed In Numbers.\n",
    "-- Structured Data: This Type Of Data Is Either Number Or Words like good or bad.\n",
    "-- Unstructured Data: This Type Of Data Does Not Have The Proper Format like images."
   ]
  },
  {
   "cell_type": "markdown",
   "id": "4052773a",
   "metadata": {},
   "source": [
    "# 3. Create a basic data collection that includes some sample records. Have at least one attribute from each of the machine learning data types.\n",
    "data collection from api, web scraping or free resources. all the data types are in diffrent dataset. "
   ]
  },
  {
   "cell_type": "markdown",
   "id": "8071c471",
   "metadata": {},
   "source": [
    "# 4. What are the various causes of machine learning data issues? What are the ramifications?\n",
    "- data quality\n",
    "- Data dependent\n",
    "- noisy, dirty and incomplete data\n",
    "- monitoring and maintenance"
   ]
  },
  {
   "cell_type": "markdown",
   "id": "f977b0a5",
   "metadata": {},
   "source": [
    "# 5. Demonstrate various approaches to categorical data exploration with appropriate examples.\n",
    "- unique value count\n",
    "- frequency count\n",
    "- variance\n",
    "- pareto analysis\n",
    "- histogram\n",
    "- correlation heat map"
   ]
  },
  {
   "cell_type": "markdown",
   "id": "702968b5",
   "metadata": {},
   "source": [
    "# 6. How would the learning activity be affected if certain variables have missing values? Having said that, what can be done about it?\n",
    "- Detect by analysis\n",
    "- Done by missing value imputation techinique"
   ]
  },
  {
   "cell_type": "markdown",
   "id": "980322f2",
   "metadata": {},
   "source": [
    "# 7. Describe the various methods for dealing with missing data values in depth.\n",
    "- remove\n",
    "- impute\n",
    "-- univarient\n",
    "--- mean/ medim mode\n",
    "--- random initialisation\n",
    "--- end of distribution\n",
    "--- missing value\n",
    "-- multivariate\n",
    "--- knn imputer\n",
    "--- mice"
   ]
  },
  {
   "cell_type": "markdown",
   "id": "a7e63393",
   "metadata": {},
   "source": [
    "# 8. What are the various data pre-processing techniques? Explain dimensionality reduction and function selection in a few words.\n",
    "- Working with missing values\n",
    "- Feature Encoding Techniques\n",
    "- Feature Scaling/Normalization\n",
    "- Feature Transformation\n",
    "- Handing Time and Date data\n",
    "- Working with Outliers\n",
    "- Working with Pipelines\n",
    "- data clearning or data reduction\n",
    "- etc."
   ]
  },
  {
   "cell_type": "markdown",
   "id": "ebccd2e0",
   "metadata": {},
   "source": [
    "# 9.1.What is the IQR? What criteria are used to assess it?\n",
    "- Q1 is the first quartile of the data, i.e., to say 25% of the data lies between minimum and Q1.\n",
    "- Q3 is the third quartile of the data, i.e., to say 75% of the data lies between minimum and Q3.\n",
    "- The difference between Q3 and Q1 is called the Inter-Quartile Range or IQR."
   ]
  },
  {
   "cell_type": "markdown",
   "id": "5384bc48",
   "metadata": {},
   "source": [
    "# 9.2ii. Describe the various components of a box plot in detail? When will the lower whisker surpass the upper whisker in length? How can box plots be used to identify outliers?"
   ]
  },
  {
   "cell_type": "markdown",
   "id": "fa3299b2",
   "metadata": {},
   "source": [
    "minimum is the minimum value in the dataset\n",
    "maximum is the maximum value in the dataset.\n",
    "So the difference between the two tells us about the range of dataset.\n",
    "The median is the median (or centre point), also called second quartile, of the data (resulting from the fact that the data is ordered).\n",
    "Q1 is the first quartile of the data, i.e., to say 25% of the data lies between minimum and Q1.\n",
    "Q3 is the third quartile of the data, i.e., to say 75%\n",
    "When the data is left skewed, lower whisker will be longer than upper whisker.\n",
    "To detect the outliers this method is used, we define a new range, let’s call it decision range, and any data point lying outside this range is considered as outlier and is accordingly dealt with. The range is as given below: Lower Bound: (Q1 - 1.5 * IQR)Upper Bound: (Q3 + 1.5 * IQR)\n",
    "The difference between Q3 and Q1 is called the Inter-Quartile Range or IQR."
   ]
  },
  {
   "cell_type": "markdown",
   "id": "7d01a4b7",
   "metadata": {},
   "source": [
    "# 10. Make brief notes on any two of the following:"
   ]
  },
  {
   "cell_type": "markdown",
   "id": "208922a3",
   "metadata": {},
   "source": [
    "Data collected at regular intervals:-\n",
    "    Interval data is one of the two types of discrete data.\n",
    "An example of interval data is the data collected on a thermometer—its gradation or markings are equidistant."
   ]
  },
  {
   "cell_type": "markdown",
   "id": "d99b081d",
   "metadata": {},
   "source": [
    "The gap between the quartiles:\n",
    "Q1 is the first quartile of the data, i.e., to say 25% of the data lies between minimum and Q1.\n",
    "Q3 is the third quartile of the data, i.e., to say 75% of the data lies between minimum and Q3.\n",
    "The difference between Q3 and Q1 is called the Inter-Quartile Range or IQR."
   ]
  },
  {
   "cell_type": "markdown",
   "id": "fa3d68d7",
   "metadata": {},
   "source": [
    "The average and median:\n",
    "The mean (informally, the “average“) is found by adding all of the numbers together and dividing by the number of items in the set: 10 + 10 + 20 + 40 + 70 / 5 = 30. The median is found by ordering the set from lowest to highest and finding the exact middle. The median is just the middle number: 20\n",
    "Histogram and barplot:\n",
    "Histograms and box plots are very similar in that they both help to visualize and describe numeric data. Although histograms are better in determining the underlying distribution of the data, box plots allow you to compare multiple data sets better than histograms as they are less detailed and take up less space."
   ]
  },
  {
   "cell_type": "code",
   "execution_count": null,
   "id": "9cdec5bd",
   "metadata": {},
   "outputs": [],
   "source": []
  }
 ],
 "metadata": {
  "kernelspec": {
   "display_name": "Python 3 (ipykernel)",
   "language": "python",
   "name": "python3"
  },
  "language_info": {
   "codemirror_mode": {
    "name": "ipython",
    "version": 3
   },
   "file_extension": ".py",
   "mimetype": "text/x-python",
   "name": "python",
   "nbconvert_exporter": "python",
   "pygments_lexer": "ipython3",
   "version": "3.9.12"
  }
 },
 "nbformat": 4,
 "nbformat_minor": 5
}
