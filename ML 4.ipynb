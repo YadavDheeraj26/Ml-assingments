{
 "cells": [
  {
   "cell_type": "markdown",
   "id": "4908f3bf",
   "metadata": {},
   "source": [
    "# 1. What are the key tasks involved in getting ready to work with machine learning modeling?\n",
    "- Data collection\n",
    "- Data preparation\n",
    "- Choose a model\n",
    "- training\n",
    "- evaluation\n",
    "- parameter\n",
    "- prediction"
   ]
  },
  {
   "cell_type": "markdown",
   "id": "a39fd4e5",
   "metadata": {},
   "source": [
    "# 2. What are the different forms of data used in machine learning? Give a specific example for each of them.\n",
    "- categorical data:- name\n",
    "- timeseries data:- date\n",
    "- test data:- review\n",
    "- numerical data:- year\n",
    "- mixed data:- car number"
   ]
  },
  {
   "cell_type": "markdown",
   "id": "f86346f0",
   "metadata": {},
   "source": [
    "# 3. Distinguish:\n",
    "- Numeric vs. categorical attributes:- numberical attributes contain numberical data like year, age, etc and categorical data contain categorical data like colour, cast, etc.\n",
    "\n",
    "- Feature selection vs. dimensionality reduction:- In feature selection we take only important features else in dimensionality reduction we delete unwanted features."
   ]
  },
  {
   "cell_type": "markdown",
   "id": "6c2f2a1d",
   "metadata": {},
   "source": [
    "# 4.Make quick notes on any two of the following:\n",
    "- The histogram:- A Histogram is a graphical representation that organizes a group of data points into user-specified ranges.\n",
    "- Scatter plot:- A scatter plot (aka scatter chart, scatter graph) uses dots to represent values for two different numeric variables.\n",
    "- PCA(principle component analysis):- Principal Component Analysis or PCA is a widely used technique for dimensionality reduction of the large data set."
   ]
  },
  {
   "cell_type": "markdown",
   "id": "d147924d",
   "metadata": {},
   "source": [
    "# 5. Why is it necessary to investigate data? Is there a discrepancy in how qualitative and quantitative data are explored?\n",
    "We need to explore and understand the data before predictive task. we need to use feature engineeringg like:-\n",
    "- working with missing value\n",
    "- feature scaling\n",
    "- feature encoding\n",
    "- feature transformation\n",
    "- handling data and time\n",
    "- handling outliers\n",
    "- feature selection\n",
    "- feature construction"
   ]
  },
  {
   "cell_type": "markdown",
   "id": "49c7d074",
   "metadata": {},
   "source": [
    "# 6. What are the various histogram shapes? What exactly are bins?\n",
    "- uniform histogram\n",
    "- symmetric histogram\n",
    "- bimodal histogram\n",
    "- probability histogram\n",
    "- bins in histogram is the choice of unit and spacing on the x axis."
   ]
  },
  {
   "cell_type": "markdown",
   "id": "06267bd5",
   "metadata": {},
   "source": [
    "# 7. How do we deal with data outliers?\n",
    "- using z score\n",
    "- using IQR\n",
    "- using Percentile method\n",
    "- Local outlier factor"
   ]
  },
  {
   "cell_type": "markdown",
   "id": "56b1c063",
   "metadata": {},
   "source": [
    "# 8. What are the various central inclination measures? Why does mean vary too much from median in certain data sets?\n",
    "Mean, Median and Mode are Central Inclination Measures. Mean varies more than Median due to presence of outliers, as mean is averaging all points while median in like finding a middle number."
   ]
  },
  {
   "cell_type": "markdown",
   "id": "cbf9fa21",
   "metadata": {},
   "source": [
    "# 9. Describe how a scatter plot can be used to investigate bivariate relationships. Is it possible to find outliers using a scatter plot?\n",
    " A Scatter Plot (aka scatter chart, scatter graph) uses dots to represent values for two different numeric variables. The position of each dot on the horizontal and vertical axis indicates values for an individual data point. So this visualization gives us the idea of bivariate relationship.\n",
    "\n",
    "Scatter plot can also help finding outliers as outliers can be visualized at farther distance than regular data."
   ]
  },
  {
   "cell_type": "markdown",
   "id": "63b952e1",
   "metadata": {},
   "source": [
    "# 10. Describe how cross-tabs can be used to figure out how two variables are related.\n",
    "Cross tabulation is a method to quantitatively analyze the relationship between multiple variables. Also known as contingency tables or cross tabs, cross tabulation groups variables to understand the correlation between different variables. It also shows how correlations change from one variable grouping to another."
   ]
  },
  {
   "cell_type": "code",
   "execution_count": null,
   "id": "4f670e1f",
   "metadata": {},
   "outputs": [],
   "source": []
  }
 ],
 "metadata": {
  "kernelspec": {
   "display_name": "Python 3 (ipykernel)",
   "language": "python",
   "name": "python3"
  },
  "language_info": {
   "codemirror_mode": {
    "name": "ipython",
    "version": 3
   },
   "file_extension": ".py",
   "mimetype": "text/x-python",
   "name": "python",
   "nbconvert_exporter": "python",
   "pygments_lexer": "ipython3",
   "version": "3.9.12"
  }
 },
 "nbformat": 4,
 "nbformat_minor": 5
}
