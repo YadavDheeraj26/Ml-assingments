{
 "cells": [
  {
   "cell_type": "markdown",
   "id": "de85e5ed",
   "metadata": {},
   "source": [
    "# 1. What is the concept of human learning? Please give two examples.\n",
    "\n",
    "Human learning required thinking, reasoning, intelligence, etc to solve the problem.\n",
    "\n",
    "   **Learning through observation – Modeling/Observational Learning.**\n",
    "   \n",
    "   **Learning through Association - Classical Conditioning.**\n"
   ]
  },
  {
   "cell_type": "markdown",
   "id": "77cf134c",
   "metadata": {},
   "source": [
    "# 2. What different forms of human learning are there? Are there any machine learning equivalents?\n",
    "\n",
    "\n",
    "    Machine Learning:- Reinforcement Learning, Supervised Learning and Unsupervised Learning\n",
    "    ML equivalents like Linear regression, decision trees, random forest, support vector machines, etc\n"
   ]
  },
  {
   "cell_type": "markdown",
   "id": "656c9a56",
   "metadata": {},
   "source": [
    "# 3. What is machine learning, and how does it work? What are the key responsibilities of machine learning?\n",
    "\n",
    "\n",
    "   - Machine learning is a branch of artificial intelligence (AI) and computer science which focuses on the use of data and algorithms to imitate the way that humans learn, gradually improving its accuracy.\n",
    "   \n",
    "   -It explore data and identify pattern like human\n",
    "    \n",
    "   -Responsiblity:- desing Ml model and system with algorithm, tools, etc\n"
   ]
  },
  {
   "cell_type": "markdown",
   "id": "b287e57f",
   "metadata": {},
   "source": [
    "# 4. Define the terms penalty and reward in the context of reinforcement learning.\n",
    "\n",
    "- In Reinforcement learning, The robot or agent recieve reward for good command and penalty for wrong decision same like human.\n"
   ]
  },
  {
   "cell_type": "markdown",
   "id": "59b0a747",
   "metadata": {},
   "source": [
    "# 5. Explain the term learning as a search?\n",
    "- Concept learning can be viewed as the task of searching through a large space of hypotheses implicitly defined by the hypothesis representation"
   ]
  },
  {
   "cell_type": "markdown",
   "id": "e6e32b35",
   "metadata": {},
   "source": [
    "#  6. What are the various goals of machine learning? What is the relationship between these and human learning?\n",
    "\n",
    "   - Goad of machine learning to solve problem of human and system or machine mimic like human.\n",
    "   - Relation between machine learning and human is learning things.\n",
    "\n"
   ]
  },
  {
   "cell_type": "markdown",
   "id": "dd4dd416",
   "metadata": {},
   "source": [
    "# 7. Illustrate the various elements of machine learning using a real-life illustration.\n",
    "\n",
    "  - Data\n",
    "  - Task\n",
    "  - Model\n",
    "  - Loss and cost function\n",
    "  - Algorihtm\n",
    "  - Evaluation\n",
    "\n",
    " "
   ]
  },
  {
   "cell_type": "markdown",
   "id": "4b2131b7",
   "metadata": {},
   "source": [
    "# 8. Provide an example of the abstraction method.\n",
    "\n",
    "  - Data abstraction is mostly a question of program interfaces and therefore it arises naturally at the point where we have to consider program composition and modules.\n",
    "\n",
    "# 9. What is the concept of generalization? What function does it play in the machine learning process?\n",
    "\n",
    "   - Generalization refers to your model's ability to adapt properly to new, previously unseen data, drawn from the same distribution as the one used to create the model.\n",
    "   - In machine learning, generalization is a definition to demonstrate how well is a trained model to classify or forecast unseen data\n",
    "\n"
   ]
  },
  {
   "cell_type": "markdown",
   "id": "8a401630",
   "metadata": {},
   "source": [
    "# 10. What is classification, exactly? What are the main distinctions between classification and regression?\n",
    "\n",
    "- In Machine Learning, Classification refers to a predictive modeling problem where a class label is predicted for a given example of input data\n",
    "\n",
    "- Classification is the task of predicting a discrete class label. Whereas Regression is the task of predicting a continuous quantity.\n",
    "\n",
    "# 11. What is regression, and how does it work? Give an example of a real-world problem that was solved using regression.\n",
    "\n",
    "- Regression is a Supervised Machine Learning technique which is used to predict continuous values. The ultimate goal of a regression algorithm is to plot a best-fit line or a curve between the data.\n",
    "\n",
    "- prediction price, temperatire, number of workers, revnew, order, etc.\n",
    "\n",
    "# 12. Describe the clustering mechanism in detail.\n",
    "\n",
    "- Clustering is the task of dividing the population or data points into a number of groups such that data points in the same groups are more similar to other data points in the same group than those in other groups. There are lots of algorithm are used to make aluster like:-> \n",
    "\n",
    "- K mean clustering\n",
    "- DBSCAN\n",
    "- hierarchy and agglomerative\n",
    "\n",
    "# 13. Make brief observations on two of the following topics:\n",
    "\n",
    "   - Machine learning algorithms are used: At its Most basic, Machine Learning uses programmed algorithms that receive and analyse input data to predict output values within an acceptable range. As new data is fed to these algorithms, they learn and optimise their operations to improve performance, developing intelligence over time.\n",
    "\n",
    "   - Studying Under Supervision: In machine learning, there are two important categories- Supervised and Unsupervised learning.Supervised learning, an algorithm learns from a training dataset. We know the correct answers or desired output, the algorithm makes predictions using the given dataset and is corrected by the “supervisor”.\n",
    "\n"
   ]
  },
  {
   "cell_type": "code",
   "execution_count": null,
   "id": "50b4f665",
   "metadata": {},
   "outputs": [],
   "source": []
  }
 ],
 "metadata": {
  "kernelspec": {
   "display_name": "Python 3 (ipykernel)",
   "language": "python",
   "name": "python3"
  },
  "language_info": {
   "codemirror_mode": {
    "name": "ipython",
    "version": 3
   },
   "file_extension": ".py",
   "mimetype": "text/x-python",
   "name": "python",
   "nbconvert_exporter": "python",
   "pygments_lexer": "ipython3",
   "version": "3.9.16"
  }
 },
 "nbformat": 4,
 "nbformat_minor": 5
}
